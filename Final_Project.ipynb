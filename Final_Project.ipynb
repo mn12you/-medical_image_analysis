{
 "cells": [
  {
   "cell_type": "markdown",
   "metadata": {},
   "source": [
    "# Medical image analysis final project"
   ]
  },
  {
   "cell_type": "markdown",
   "metadata": {},
   "source": [
    "### import area:"
   ]
  },
  {
   "cell_type": "code",
   "execution_count": 1,
   "metadata": {},
   "outputs": [],
   "source": [
    "import cv2\n",
    "import numpy as np"
   ]
  },
  {
   "cell_type": "markdown",
   "metadata": {},
   "source": [
    "## Problem 1 start\n",
    "### Read the image and crop it"
   ]
  },
  {
   "cell_type": "code",
   "execution_count": 2,
   "metadata": {},
   "outputs": [
    {
     "name": "stdout",
     "output_type": "stream",
     "text": [
      "(512, 512, 3)\n"
     ]
    }
   ],
   "source": [
    "path = r'.\\Pre_X-ray(Lateral)(512,512).bmp'\n",
    "image = cv2.imread(path)\n",
    "print(image.shape)\n",
    "x=256\n",
    "y=256\n",
    "w=256\n",
    "h=256\n",
    "crop_img = image[y:y+h, x:x+w]\n",
    "\n"
   ]
  },
  {
   "cell_type": "markdown",
   "metadata": {},
   "source": [
    "### Conver to Gray scale"
   ]
  },
  {
   "cell_type": "code",
   "execution_count": 4,
   "metadata": {},
   "outputs": [],
   "source": [
    "img = cv2.cvtColor(crop_img, cv2.COLOR_BGR2GRAY)"
   ]
  },
  {
   "cell_type": "markdown",
   "metadata": {},
   "source": [
    "### Denoise through Gaussian Blur\n"
   ]
  },
  {
   "cell_type": "code",
   "execution_count": 5,
   "metadata": {},
   "outputs": [],
   "source": [
    "dst = cv2.GaussianBlur(img, (31,31), 0)\n",
    "cv2.imshow(\"cropped1\", dst)\n",
    "cv2.waitKey(0)"
   ]
  },
  {
   "cell_type": "markdown",
   "metadata": {},
   "source": [
    "![](Medical_Image\\Gaussian.PNG)"
   ]
  },
  {
   "cell_type": "markdown",
   "metadata": {},
   "source": [
    "### Convert to binary Value"
   ]
  },
  {
   "cell_type": "code",
   "execution_count": 5,
   "metadata": {},
   "outputs": [
    {
     "data": {
      "text/plain": [
       "-1"
      ]
     },
     "execution_count": 5,
     "metadata": {},
     "output_type": "execute_result"
    }
   ],
   "source": [
    "ret, th2 = cv2.threshold(dst, 80, 255, cv2.THRESH_BINARY)\n",
    "cv2.imshow(\"cropped\", th2)\n",
    "cv2.waitKey(0)"
   ]
  },
  {
   "cell_type": "markdown",
   "metadata": {},
   "source": [
    "### Find Contours"
   ]
  },
  {
   "cell_type": "code",
   "execution_count": 6,
   "metadata": {},
   "outputs": [
    {
     "data": {
      "text/plain": [
       "-1"
      ]
     },
     "execution_count": 6,
     "metadata": {},
     "output_type": "execute_result"
    }
   ],
   "source": [
    "contours,hierarchy = cv2.findContours(th2,cv2.RETR_TREE,cv2.CHAIN_APPROX_SIMPLE)\n",
    "crop=crop_img\n",
    "zznp=np.zeros((256, 256,3),dtype=np.uint8)\n",
    "cv2.drawContours(zznp,contours,-1,(0,0,255),3)\n",
    "cv2.imshow(\"cropped\", zznp)\n",
    "cv2.waitKey(0)"
   ]
  },
  {
   "cell_type": "markdown",
   "metadata": {},
   "source": [
    "### Find connected components, find the largest.\n"
   ]
  },
  {
   "cell_type": "code",
   "execution_count": 7,
   "metadata": {},
   "outputs": [],
   "source": [
    "imgg = cv2.cvtColor(zznp, cv2.COLOR_BGR2GRAY)\n",
    "\n",
    "ret, th3 = cv2.threshold(imgg, 50, 255, cv2.THRESH_BINARY)\n",
    "\n",
    "num_objects, labels = cv2.connectedComponents(th3)\n",
    "\n",
    "output = np.zeros((img.shape[0], img.shape[1], 3), np.uint8)\n",
    "a=labels.shape\n",
    "cc =np.zeros((num_objects))\n",
    "for l in range(1, num_objects):\n",
    "    for i in range(1, a[0]):\n",
    "        for j in range(1, a[1] ):\n",
    "                if labels[i,j]==l:\n",
    "                    cc[l]+=1 \n",
    "max=0\n",
    "label_index=0\n",
    "for l in range(1, num_objects):\n",
    "    if cc[l]>max :\n",
    "        max=cc[l]\n",
    "        label_index=l\n",
    "mask = labels==label_index\n",
    "output[:, :, 0][mask] = np.random.randint(0, 255)\n",
    "output[:, :, 1][mask] = np.random.randint(0, 255)\n",
    "output[:, :, 2][mask] = np.random.randint(0, 255)\n",
    "imggg = cv2.cvtColor(output, cv2.COLOR_BGR2GRAY)\n",
    "ret, th4 = cv2.threshold(imggg, 50, 255, cv2.THRESH_BINARY)\n",
    "\n"
   ]
  },
  {
   "cell_type": "markdown",
   "metadata": {},
   "source": [
    "### Use lips as a index to crop the image."
   ]
  },
  {
   "cell_type": "code",
   "execution_count": 8,
   "metadata": {},
   "outputs": [
    {
     "name": "stdout",
     "output_type": "stream",
     "text": [
      "(255, 127)\n"
     ]
    },
    {
     "data": {
      "text/plain": [
       "-1"
      ]
     },
     "execution_count": 8,
     "metadata": {},
     "output_type": "execute_result"
    }
   ],
   "source": [
    "index=np.zeros((2))\n",
    "for i in range(1, 256):\n",
    "    for j in range(1, 256):\n",
    "        if th4[a[0]-i][a[1]-j]!=0:\n",
    "            index=(i,j)\n",
    "\n",
    "\n",
    "\n",
    "\n",
    "print(index)\n",
    "for i in range(0, a[0]):\n",
    "    for j in range(0, a[1] ):\n",
    "        if i<index[1] :\n",
    "            th4[i][j]=0\n",
    "cv2.imshow(\"cropped\", th4)\n",
    "cv2.waitKey(0)\n",
    "\n",
    "crop_img[:, :, 0][th4] = 0\n",
    "crop_img[:, :, 1][th4] = 0\n",
    "crop_img[:, :, 2][th4] = 0\n",
    "\n",
    "contours,hierarchy = cv2.findContours(th4,cv2.RETR_TREE,cv2.CHAIN_APPROX_SIMPLE)\n",
    "cv2.drawContours(crop_img,contours,-1,(0,0,255),3)\n",
    "cv2.imshow(\"cropped\",crop_img)\n",
    "cv2.waitKey(0)"
   ]
  },
  {
   "cell_type": "markdown",
   "metadata": {},
   "source": [
    "## Problem 2 start\n",
    "### Crop the image"
   ]
  },
  {
   "cell_type": "code",
   "execution_count": 9,
   "metadata": {},
   "outputs": [
    {
     "data": {
      "text/plain": [
       "-1"
      ]
     },
     "execution_count": 9,
     "metadata": {},
     "output_type": "execute_result"
    }
   ],
   "source": [
    "crop_img3= image[0:256, 0:256]\n",
    "cv2.imshow(\"cropped\",crop_img3)\n",
    "cv2.waitKey(0)\n"
   ]
  },
  {
   "cell_type": "markdown",
   "metadata": {},
   "source": [
    "### Convert to Gray scale\n"
   ]
  },
  {
   "cell_type": "code",
   "execution_count": 10,
   "metadata": {},
   "outputs": [],
   "source": [
    "img = cv2.cvtColor(crop_img3, cv2.COLOR_BGR2GRAY)"
   ]
  },
  {
   "cell_type": "markdown",
   "metadata": {},
   "source": [
    "### Denoise through intensity threshold\n"
   ]
  },
  {
   "cell_type": "code",
   "execution_count": 11,
   "metadata": {},
   "outputs": [
    {
     "data": {
      "text/plain": [
       "-1"
      ]
     },
     "execution_count": 11,
     "metadata": {},
     "output_type": "execute_result"
    }
   ],
   "source": [
    "ret, th5 = cv2.threshold(img,100 , 255, cv2.THRESH_TOZERO)\n",
    "cv2.imshow(\"cropped\", th5)\n",
    "cv2.waitKey(0)"
   ]
  },
  {
   "cell_type": "markdown",
   "metadata": {},
   "source": [
    "### Convert to binary"
   ]
  },
  {
   "cell_type": "code",
   "execution_count": 12,
   "metadata": {},
   "outputs": [
    {
     "name": "stdout",
     "output_type": "stream",
     "text": [
      "(256, 256)\n"
     ]
    },
    {
     "data": {
      "text/plain": [
       "-1"
      ]
     },
     "execution_count": 12,
     "metadata": {},
     "output_type": "execute_result"
    }
   ],
   "source": [
    "ret, th5 = cv2.threshold(th5,225, 255, cv2.THRESH_BINARY)\n",
    "print(th5.shape)\n",
    "cv2.imshow(\"cropped\", th5)\n",
    "cv2.waitKey(0)"
   ]
  },
  {
   "cell_type": "markdown",
   "metadata": {},
   "source": [
    "### Find circles (Hough Circles Transform)"
   ]
  },
  {
   "cell_type": "code",
   "execution_count": 13,
   "metadata": {},
   "outputs": [],
   "source": [
    "# detect circles in the image\n",
    "circles = cv2.HoughCircles(th5, cv2.HOUGH_GRADIENT, 1.3, 5,param1=50,param2=20,minRadius=0,maxRadius=19)\n",
    "# ensure at least some circles were found\n",
    "if circles is not None:\n",
    "\t# convert the (x, y) coordinates and radius of the circles to integers\n",
    "\tcircles = np.round(circles[0, :]).astype(\"int\")\n",
    "\t# loop over the (x, y) coordinates and radius of the circles\n",
    "\n",
    "\tfor (x, y, r) in circles:\n",
    "\t\t# draw the circle in the output image, then draw a rectangle\n",
    "\t\t# corresponding to the center of the circle\n",
    "\t\tcv2.circle(crop_img3, (x, y), r, (0, 255, 0), 4)\n",
    "\t\tcv2.rectangle(crop_img3, (x - 5, y - 5), (x + 5, y + 5), (0, 128, 255), -1)\n",
    "\t# show the output image\n",
    "\tcv2.imshow(\"output\", crop_img3)\n",
    "\tcv2.waitKey(0)"
   ]
  },
  {
   "cell_type": "markdown",
   "metadata": {},
   "source": [
    "## Final result"
   ]
  },
  {
   "cell_type": "code",
   "execution_count": 14,
   "metadata": {},
   "outputs": [
    {
     "data": {
      "text/plain": [
       "-1"
      ]
     },
     "execution_count": 14,
     "metadata": {},
     "output_type": "execute_result"
    }
   ],
   "source": [
    "cv2.imshow(\"Final\", image)\n",
    "cv2.waitKey(0)"
   ]
  }
 ],
 "metadata": {
  "kernelspec": {
   "display_name": "Python 3.8.13 ('tf_2.5_py_3.8')",
   "language": "python",
   "name": "python3"
  },
  "language_info": {
   "codemirror_mode": {
    "name": "ipython",
    "version": 3
   },
   "file_extension": ".py",
   "mimetype": "text/x-python",
   "name": "python",
   "nbconvert_exporter": "python",
   "pygments_lexer": "ipython3",
   "version": "3.8.13"
  },
  "orig_nbformat": 4,
  "vscode": {
   "interpreter": {
    "hash": "4fd00a077143f32e99789a5cc22a6672ead43f8f8d00e3c6b0649fc3a4deb72d"
   }
  }
 },
 "nbformat": 4,
 "nbformat_minor": 2
}
